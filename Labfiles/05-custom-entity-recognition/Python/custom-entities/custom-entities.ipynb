{
 "cells": [
  {
   "cell_type": "code",
   "execution_count": 23,
   "metadata": {},
   "outputs": [
    {
     "name": "stdout",
     "output_type": "stream",
     "text": [
      "https://ner-language-instance.cognitiveservices.azure.com/\n"
     ]
    }
   ],
   "source": [
    "from azure.core.credentials import AzureKeyCredential\n",
    "import os\n",
    "%reload_ext dotenv\n",
    "%dotenv Labfiles/05-custom-entity-recognition/Python/custom-entities/.env\n",
    "ls_prediction_endpoint = os.getenv('AI_SERVICE_ENDPOINT')\n",
    "ai_resource_key = os.getenv('AI_RESOURCE_KEY')\n",
    "print(ls_prediction_endpoint)"
   ]
  },
  {
   "cell_type": "code",
   "execution_count": 24,
   "metadata": {},
   "outputs": [],
   "source": [
    "from azure.ai.textanalytics import TextAnalyticsClient\n",
    "from azure.core.credentials import AzureKeyCredential"
   ]
  },
  {
   "cell_type": "code",
   "execution_count": 25,
   "metadata": {},
   "outputs": [],
   "source": [
    "credentials = AzureKeyCredential(ai_resource_key)\n",
    "ai_client = TextAnalyticsClient(endpoint=ls_prediction_endpoint, credential=credentials)"
   ]
  },
  {
   "cell_type": "code",
   "execution_count": 26,
   "metadata": {},
   "outputs": [],
   "source": [
    "project = \"CustomNER\"\n",
    "model=\"ExtractAds\"\n",
    "deployment = \"production\""
   ]
  },
  {
   "cell_type": "markdown",
   "metadata": {},
   "source": [
    "# Extract files from ads folder to 'batchedDocuments"
   ]
  },
  {
   "cell_type": "code",
   "execution_count": 31,
   "metadata": {},
   "outputs": [],
   "source": [
    "# Read each text file in the ads folder\n",
    "batchedDocuments = []\n",
    "ads_folder = 'ads'\n",
    "files = os.listdir(ads_folder)\n",
    "for file_name in files:\n",
    "    # Read the file contents\n",
    "    text = open(os.path.join(ads_folder, file_name), encoding='utf8').read()\n",
    "    batchedDocuments.append(text)"
   ]
  },
  {
   "attachments": {},
   "cell_type": "markdown",
   "metadata": {},
   "source": [
    "# Prepare model and extract entities"
   ]
  },
  {
   "cell_type": "code",
   "execution_count": 32,
   "metadata": {},
   "outputs": [],
   "source": [
    "operation = ai_client.begin_recognize_custom_entities(batchedDocuments, project_name=project, deployment_name=deployment)"
   ]
  },
  {
   "cell_type": "code",
   "execution_count": 33,
   "metadata": {},
   "outputs": [],
   "source": [
    "document_results = operation.result()"
   ]
  },
  {
   "cell_type": "code",
   "execution_count": 34,
   "metadata": {},
   "outputs": [
    {
     "name": "stdout",
     "output_type": "stream",
     "text": [
      "test1.txt\n",
      "Entity:  Bluetooth earbuds Category:  IFS Confidence Score:  0.97\n",
      "Entity:  $100. Category:  PC Confidence Score:  0.96\n",
      "Entity:  Sacramento Category:  LCN Confidence Score:  0.91\n",
      "test2.txt\n",
      "Entity:  Dog harness Category:  IFS Confidence Score:  0.95\n",
      "Entity:  $20 Category:  PC Confidence Score:  0.93\n",
      "Entity:  Tucson Category:  LCN Confidence Score:  0.9\n",
      "test3.txt\n",
      "Entity:  Lego box Category:  IFS Confidence Score:  0.97\n",
      "Entity:  havana Category:  LCN Confidence Score:  0.94\n"
     ]
    }
   ],
   "source": [
    "for doc, custom_entities_results in zip(files, document_results):\n",
    "    print(doc)\n",
    "    if custom_entities_results.kind == \"CustomEntityRecognition\":\n",
    "        for entity in custom_entities_results.entities:\n",
    "            print(\"Entity: \", entity.text, \"Category: \", entity.category, \"Confidence Score: \", entity.confidence_score)\n",
    "    elif custom_entities_results.is_error:\n",
    "        print(\"Document error: \", custom_entities_results.error)"
   ]
  },
  {
   "cell_type": "markdown",
   "metadata": {},
   "source": [
    "# Analysis of the results,\n",
    "for test 1 and test 2, results were fine. However for test 3, the model failed to recognize the price entities. I simply wrote the numbers as 500 dollars and 25, instead of usual $500 and $25."
   ]
  },
  {
   "attachments": {},
   "cell_type": "markdown",
   "metadata": {},
   "source": [
    "## Entities \n",
    " - IFS: Item for Sale\n",
    " - PC: Price\n",
    " - LCN: Location\n"
   ]
  },
  {
   "cell_type": "markdown",
   "metadata": {},
   "source": []
  }
 ],
 "metadata": {
  "kernelspec": {
   "display_name": "Python 3",
   "language": "python",
   "name": "python3"
  },
  "language_info": {
   "codemirror_mode": {
    "name": "ipython",
    "version": 3
   },
   "file_extension": ".py",
   "mimetype": "text/x-python",
   "name": "python",
   "nbconvert_exporter": "python",
   "pygments_lexer": "ipython3",
   "version": "3.11.9 (main, Apr 19 2024, 11:44:45) [Clang 14.0.6 ]"
  },
  "orig_nbformat": 4,
  "vscode": {
   "interpreter": {
    "hash": "b6825e47c5122688069373c1c53c81fe3ca942cdeb5ae363f88ac19b8a5793ba"
   }
  }
 },
 "nbformat": 4,
 "nbformat_minor": 2
}
