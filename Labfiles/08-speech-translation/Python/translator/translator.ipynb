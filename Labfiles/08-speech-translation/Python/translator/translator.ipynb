{
 "cells": [
  {
   "cell_type": "code",
   "execution_count": 1,
   "metadata": {},
   "outputs": [],
   "source": [
    "from azure.core.credentials import AzureKeyCredential\n",
    "import os\n",
    "%reload_ext dotenv\n",
    "%dotenv Labfiles/08-speech-translation/Python/translator/.env"
   ]
  },
  {
   "cell_type": "code",
   "execution_count": 3,
   "metadata": {},
   "outputs": [],
   "source": [
    "ai_key = os.environ['SPEECH_KEY']"
   ]
  },
  {
   "cell_type": "code",
   "execution_count": 4,
   "metadata": {},
   "outputs": [],
   "source": [
    "ai_region = os.environ['SPEECH_REGION']"
   ]
  },
  {
   "cell_type": "code",
   "execution_count": 6,
   "metadata": {},
   "outputs": [],
   "source": [
    "import azure.cognitiveservices.speech as speech_sdk"
   ]
  },
  {
   "cell_type": "code",
   "execution_count": 29,
   "metadata": {},
   "outputs": [],
   "source": [
    "translation_config = speech_sdk.translation.SpeechTranslationConfig(subscription=ai_key, region=ai_region)"
   ]
  },
  {
   "cell_type": "code",
   "execution_count": 30,
   "metadata": {},
   "outputs": [],
   "source": [
    "translation_config.speech_recognition_language = \"en-US\" # Source language"
   ]
  },
  {
   "cell_type": "code",
   "execution_count": 31,
   "metadata": {},
   "outputs": [],
   "source": [
    "targetLanguage = \"fr\" # Target language\n",
    "translation_config.add_target_language('fr') # Target language\n",
    "translation_config.add_target_language('es') # Target language"
   ]
  },
  {
   "cell_type": "code",
   "execution_count": 32,
   "metadata": {},
   "outputs": [],
   "source": [
    "speech_config = speech_sdk.SpeechConfig(subscription=ai_key, region=ai_region)"
   ]
  },
  {
   "attachments": {},
   "cell_type": "markdown",
   "metadata": {},
   "source": [
    "# Implement Speech Translation"
   ]
  },
  {
   "cell_type": "code",
   "execution_count": 34,
   "metadata": {},
   "outputs": [],
   "source": [
    "audio_config = speech_sdk.AudioConfig(use_default_microphone=True)"
   ]
  },
  {
   "cell_type": "code",
   "execution_count": 35,
   "metadata": {},
   "outputs": [],
   "source": [
    "translator = speech_sdk.translation.TranslationRecognizer(translation_config, audio_config=audio_config)"
   ]
  },
  {
   "cell_type": "code",
   "execution_count": 37,
   "metadata": {},
   "outputs": [
    {
     "name": "stdout",
     "output_type": "stream",
     "text": [
      "Say something...\n",
      "translating: \"It's a beautiful day out here, don't you think?\"\n",
      "translated: \"C’est une belle journée ici, vous ne trouvez pas ?\"\n"
     ]
    }
   ],
   "source": [
    "print('Say something...')\n",
    "result = translator.recognize_once_async().get()\n",
    "print('translating: \"{}\"'.format(result.text))\n",
    "\n",
    "translation = result.translations[targetLanguage]\n",
    "print('translated: \"{}\"'.format(translation))"
   ]
  },
  {
   "cell_type": "code",
   "execution_count": 38,
   "metadata": {},
   "outputs": [
    {
     "data": {
      "text/plain": [
       "\"It's a beautiful day out here, don't you think?\""
      ]
     },
     "execution_count": 38,
     "metadata": {},
     "output_type": "execute_result"
    }
   ],
   "source": [
    "result.text"
   ]
  },
  {
   "cell_type": "code",
   "execution_count": 39,
   "metadata": {},
   "outputs": [
    {
     "data": {
      "text/plain": [
       "{<PropertyId.SpeechServiceResponse_JsonResult: 5000>: '{\"Duration\":25200000,\"Offset\":44000000,\"RecognitionStatus\":\"Success\",\"Text\":\"It\\'s a beautiful day out here, don\\'t you think?\",\"Confidence\":0.0,\"Translation\":{\"TranslationStatus\":\"Success\",\"Translations\":[{\"Language\":\"fr\",\"Text\":\"C’est une belle journée ici, vous ne trouvez pas ?\"},{\"Language\":\"es\",\"Text\":\"Es un día hermoso aquí, ¿no crees?\"}]}}',\n",
       " <PropertyId.SpeechServiceResponse_RecognitionLatencyMs: 5002>: '725'}"
      ]
     },
     "execution_count": 39,
     "metadata": {},
     "output_type": "execute_result"
    }
   ],
   "source": [
    "result.properties"
   ]
  },
  {
   "attachments": {},
   "cell_type": "markdown",
   "metadata": {},
   "source": [
    "# Now synthesize the translation to speech"
   ]
  },
  {
   "cell_type": "code",
   "execution_count": 41,
   "metadata": {},
   "outputs": [],
   "source": [
    " # Synthesize translation\n",
    "voices = {\n",
    "         \"fr\": \"fr-FR-HenriNeural\",\n",
    "         \"es\": \"es-ES-ElviraNeural\",\n",
    "         \"hi\": \"hi-IN-MadhurNeural\"\n",
    "}"
   ]
  },
  {
   "cell_type": "code",
   "execution_count": 45,
   "metadata": {},
   "outputs": [],
   "source": [
    "speech_config.speech_synthesis_voice_name = voices.get(\"es\")"
   ]
  },
  {
   "cell_type": "code",
   "execution_count": 43,
   "metadata": {},
   "outputs": [],
   "source": [
    "speech_synthesizer = speech_sdk.SpeechSynthesizer(speech_config=speech_config)"
   ]
  },
  {
   "cell_type": "code",
   "execution_count": 44,
   "metadata": {},
   "outputs": [],
   "source": [
    "speak = speech_synthesizer.speak_text_async(translation).get()"
   ]
  },
  {
   "cell_type": "code",
   "execution_count": null,
   "metadata": {},
   "outputs": [],
   "source": [
    "speak = speech_synthesizer.speak_text_async(translation).get()"
   ]
  }
 ],
 "metadata": {
  "kernelspec": {
   "display_name": "ai-learn",
   "language": "python",
   "name": "python3"
  },
  "language_info": {
   "codemirror_mode": {
    "name": "ipython",
    "version": 3
   },
   "file_extension": ".py",
   "mimetype": "text/x-python",
   "name": "python",
   "nbconvert_exporter": "python",
   "pygments_lexer": "ipython3",
   "version": "3.11.9"
  },
  "orig_nbformat": 4,
  "vscode": {
   "interpreter": {
    "hash": "b6825e47c5122688069373c1c53c81fe3ca942cdeb5ae363f88ac19b8a5793ba"
   }
  }
 },
 "nbformat": 4,
 "nbformat_minor": 2
}
