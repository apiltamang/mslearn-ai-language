{
 "cells": [
  {
   "cell_type": "code",
   "execution_count": 1,
   "metadata": {},
   "outputs": [],
   "source": [
    "%load_ext dotenv"
   ]
  },
  {
   "cell_type": "code",
   "execution_count": 2,
   "metadata": {},
   "outputs": [],
   "source": [
    "%dotenv Labfiles/02-qna/Python/qna-app/.env"
   ]
  },
  {
   "cell_type": "code",
   "execution_count": 3,
   "metadata": {},
   "outputs": [],
   "source": [
    "import os\n",
    "ai_endpoint = os.getenv('AI_SERVICE_ENDPOINT')\n",
    "ai_key = os.getenv('AI_SERVICE_KEY')\n",
    "ai_project_name = os.getenv('QA_PROJECT_NAME')\n",
    "ai_deployment_name = os.getenv('QA_DEPLOYMENT_NAME')"
   ]
  },
  {
   "cell_type": "code",
   "execution_count": 4,
   "metadata": {},
   "outputs": [],
   "source": [
    "from azure.core.credentials import AzureKeyCredential"
   ]
  },
  {
   "cell_type": "code",
   "execution_count": 5,
   "metadata": {},
   "outputs": [],
   "source": [
    "from azure.ai.language.questionanswering import QuestionAnsweringClient"
   ]
  },
  {
   "cell_type": "code",
   "execution_count": 6,
   "metadata": {},
   "outputs": [
    {
     "name": "stdout",
     "output_type": "stream",
     "text": [
      "https://qna-language-instance.cognitiveservices.azure.com/\n"
     ]
    }
   ],
   "source": [
    "print(ai_endpoint)"
   ]
  },
  {
   "cell_type": "code",
   "execution_count": 7,
   "metadata": {},
   "outputs": [],
   "source": [
    "credentials = AzureKeyCredential(ai_key)\n",
    "ai_client = QuestionAnsweringClient(ai_endpoint, credentials)"
   ]
  },
  {
   "cell_type": "code",
   "execution_count": 9,
   "metadata": {},
   "outputs": [],
   "source": [
    "user_question = \"how are you?\""
   ]
  },
  {
   "cell_type": "code",
   "execution_count": 10,
   "metadata": {},
   "outputs": [
    {
     "name": "stdout",
     "output_type": "stream",
     "text": [
      "I'm doing great, thanks for asking!\n",
      "Confidence Score:  1.0\n",
      "Source:  qna_chitchat_Friendly\n",
      "You can see a list of all the Learn content types and learn about each in the [Microsoft Learn content types](https://docs.microsoft.com/en-us/learn/support/learn-content-types) article.\n",
      "Confidence Score:  0.747\n",
      "Source:  https://docs.microsoft.com/en-us/learn/support/faq\n"
     ]
    }
   ],
   "source": [
    "while user_question.lower() != 'quit':\n",
    "    response = ai_client.get_answers(question=user_question, project_name=ai_project_name, deployment_name=ai_deployment_name)\n",
    "\n",
    "    for candidate in response.answers:\n",
    "        print(candidate.answer)\n",
    "        print(\"Confidence Score: \", candidate.confidence)\n",
    "        print(\"Source: \", candidate.source)\n",
    "    \n",
    "    user_question = input('Please enter a question: ')\n"
   ]
  },
  {
   "cell_type": "code",
   "execution_count": null,
   "metadata": {},
   "outputs": [],
   "source": []
  }
 ],
 "metadata": {
  "kernelspec": {
   "display_name": "Python 3",
   "language": "python",
   "name": "python3"
  },
  "language_info": {
   "codemirror_mode": {
    "name": "ipython",
    "version": 3
   },
   "file_extension": ".py",
   "mimetype": "text/x-python",
   "name": "python",
   "nbconvert_exporter": "python",
   "pygments_lexer": "ipython3",
   "version": "3.11.9"
  },
  "orig_nbformat": 4,
  "vscode": {
   "interpreter": {
    "hash": "b6825e47c5122688069373c1c53c81fe3ca942cdeb5ae363f88ac19b8a5793ba"
   }
  }
 },
 "nbformat": 4,
 "nbformat_minor": 2
}
