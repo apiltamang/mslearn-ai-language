{
 "cells": [
  {
   "cell_type": "code",
   "execution_count": 1,
   "metadata": {},
   "outputs": [],
   "source": [
    "from azure.core.credentials import AzureKeyCredential\n",
    "import os\n",
    "%reload_ext dotenv\n",
    "%dotenv Labfiles/07-speech/Python/speaking-clock/.env"
   ]
  },
  {
   "cell_type": "code",
   "execution_count": 2,
   "metadata": {},
   "outputs": [],
   "source": [
    "speech_key = os.getenv('SPEECH_KEY')\n",
    "speech_region = os.getenv('SPEECH_REGION')"
   ]
  },
  {
   "cell_type": "code",
   "execution_count": 3,
   "metadata": {},
   "outputs": [],
   "source": [
    "import azure.cognitiveservices.speech as speech_sdk"
   ]
  },
  {
   "cell_type": "code",
   "execution_count": 4,
   "metadata": {},
   "outputs": [],
   "source": [
    "speech_config = speech_sdk.SpeechConfig(subscription=speech_key, region=speech_region)"
   ]
  },
  {
   "cell_type": "code",
   "execution_count": 5,
   "metadata": {},
   "outputs": [],
   "source": [
    "audio_config = speech_sdk.AudioConfig(use_default_microphone=True)\n",
    "speech_recognizer = speech_sdk.SpeechRecognizer(speech_config=speech_config, audio_config=audio_config)"
   ]
  },
  {
   "cell_type": "code",
   "execution_count": 6,
   "metadata": {},
   "outputs": [],
   "source": [
    "from playsound import playsound"
   ]
  },
  {
   "cell_type": "markdown",
   "metadata": {},
   "source": [
    "# Add code to process the transcribed command\n"
   ]
  },
  {
   "cell_type": "code",
   "execution_count": 9,
   "metadata": {},
   "outputs": [
    {
     "name": "stdout",
     "output_type": "stream",
     "text": [
      "And just a beautiful day out there today.\n"
     ]
    }
   ],
   "source": [
    "# Process speech input\n",
    "speech = speech_recognizer.recognize_once_async().get()\n",
    "if speech.reason == speech_sdk.ResultReason.RecognizedSpeech:\n",
    "    command = speech.text\n",
    "    print(command)\n",
    "else:\n",
    "    print(speech.reason)\n",
    "    if speech.reason == speech_sdk.ResultReason.Canceled:\n",
    "        cancellation = speech.cancellation_details\n",
    "        print(cancellation.reason)\n",
    "        print(cancellation.error_details)"
   ]
  },
  {
   "attachments": {},
   "cell_type": "markdown",
   "metadata": {},
   "source": [
    "# Synthesize speech"
   ]
  },
  {
   "attachments": {},
   "cell_type": "markdown",
   "metadata": {},
   "source": []
  },
  {
   "cell_type": "code",
   "execution_count": 28,
   "metadata": {},
   "outputs": [],
   "source": [
    "speech_config.speech_synthesis_voice_name = 'en-GB-LibbyNeural'"
   ]
  },
  {
   "cell_type": "code",
   "execution_count": 29,
   "metadata": {},
   "outputs": [],
   "source": [
    "speech_synthesizer = speech_sdk.SpeechSynthesizer(speech_config=speech_config)"
   ]
  },
  {
   "cell_type": "code",
   "execution_count": 30,
   "metadata": {},
   "outputs": [],
   "source": [
    "speak = speech_synthesizer.speak_text_async('Hello world! How are you?').get()\n",
    "if speak.reason != speech_sdk.ResultReason.SynthesizingAudioCompleted:\n",
    "    print(speak.reason)\n",
    "    if speak.reason == speech_sdk.ResultReason.Canceled:\n",
    "        cancellation = speak.cancellation_details\n",
    "        print(cancellation.reason)\n",
    "        print(cancellation.error_details)"
   ]
  },
  {
   "cell_type": "code",
   "execution_count": null,
   "metadata": {},
   "outputs": [],
   "source": []
  }
 ],
 "metadata": {
  "kernelspec": {
   "display_name": "ai-learn",
   "language": "python",
   "name": "python3"
  },
  "language_info": {
   "codemirror_mode": {
    "name": "ipython",
    "version": 3
   },
   "file_extension": ".py",
   "mimetype": "text/x-python",
   "name": "python",
   "nbconvert_exporter": "python",
   "pygments_lexer": "ipython3",
   "version": "3.11.9 (main, Apr 19 2024, 11:44:45) [Clang 14.0.6 ]"
  },
  "orig_nbformat": 4,
  "vscode": {
   "interpreter": {
    "hash": "b6825e47c5122688069373c1c53c81fe3ca942cdeb5ae363f88ac19b8a5793ba"
   }
  }
 },
 "nbformat": 4,
 "nbformat_minor": 2
}
