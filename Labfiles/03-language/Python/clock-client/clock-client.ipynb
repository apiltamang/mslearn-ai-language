{
 "cells": [
  {
   "attachments": {},
   "cell_type": "markdown",
   "metadata": {},
   "source": [
    "# Natural Conversation Understanding\n",
    "The following briefly demonstrates the usage of intents and entities for conversation understanding with a pre-trained model."
   ]
  },
  {
   "cell_type": "code",
   "execution_count": 1,
   "metadata": {},
   "outputs": [],
   "source": [
    "from azure.core.credentials import AzureKeyCredential"
   ]
  },
  {
   "cell_type": "code",
   "execution_count": 2,
   "metadata": {},
   "outputs": [],
   "source": [
    "from azure.ai.language.conversations import ConversationAnalysisClient"
   ]
  },
  {
   "cell_type": "code",
   "execution_count": 3,
   "metadata": {},
   "outputs": [],
   "source": [
    "%load_ext dotenv"
   ]
  },
  {
   "cell_type": "code",
   "execution_count": 4,
   "metadata": {},
   "outputs": [],
   "source": [
    "%dotenv Labfiles/03-language/Python/clock-client/.env"
   ]
  },
  {
   "cell_type": "code",
   "execution_count": 5,
   "metadata": {},
   "outputs": [],
   "source": [
    "import os\n",
    "ls_prediction_endpoint = os.getenv('LS_CONVERSATIONS_ENDPOINT')\n",
    "ls_prediction_key = os.getenv('LS_CONVERSATIONS_KEY')"
   ]
  },
  {
   "cell_type": "code",
   "execution_count": 16,
   "metadata": {},
   "outputs": [
    {
     "name": "stdout",
     "output_type": "stream",
     "text": [
      "https://qna-language-instance.cognitiveservices.azure.com/\n"
     ]
    }
   ],
   "source": [
    "print(ls_prediction_endpoint)"
   ]
  },
  {
   "cell_type": "code",
   "execution_count": 20,
   "metadata": {},
   "outputs": [],
   "source": [
    "client = ConversationAnalysisClient(endpoint=ls_prediction_endpoint, credential=AzureKeyCredential(ls_prediction_key))"
   ]
  },
  {
   "cell_type": "code",
   "execution_count": 8,
   "metadata": {},
   "outputs": [],
   "source": [
    "# Call the language service model to get intent and entities\n",
    "cls_project = 'Clock'"
   ]
  },
  {
   "cell_type": "code",
   "execution_count": 9,
   "metadata": {},
   "outputs": [],
   "source": [
    "deployment_name = 'production'"
   ]
  },
  {
   "cell_type": "code",
   "execution_count": 10,
   "metadata": {},
   "outputs": [],
   "source": [
    "userText = 'What time is it in London?'"
   ]
  },
  {
   "cell_type": "code",
   "execution_count": 21,
   "metadata": {},
   "outputs": [],
   "source": [
    "def getResponse(userText):\n",
    "    query = userText\n",
    "    result = client.analyze_conversation(\n",
    "        task={\n",
    "            \"kind\": \"Conversation\",\n",
    "            \"analysisInput\": {\n",
    "                \"conversationItem\": {\n",
    "                    \"participantId\": \"1\",\n",
    "                    \"id\": \"1\",\n",
    "                    \"modality\": \"text\",\n",
    "                    \"language\": \"en\",\n",
    "                    \"text\": query\n",
    "                },\n",
    "                \"isLoggingEnabled\": False\n",
    "            },\n",
    "            \"parameters\": {\n",
    "                \"projectName\": cls_project,\n",
    "                \"deploymentName\": deployment_name,\n",
    "                \"verbose\": True\n",
    "            }\n",
    "        }\n",
    "    )\n",
    "    return result"
   ]
  },
  {
   "cell_type": "code",
   "execution_count": 22,
   "metadata": {},
   "outputs": [],
   "source": [
    "result = getResponse(\"What time is it at Kathmandu right now?\")"
   ]
  },
  {
   "cell_type": "code",
   "execution_count": 23,
   "metadata": {},
   "outputs": [
    {
     "data": {
      "text/plain": [
       "{'kind': 'ConversationResult',\n",
       " 'result': {'query': 'What time is it at Kathmandu right now?',\n",
       "  'prediction': {'topIntent': 'GetTime',\n",
       "   'projectKind': 'Conversation',\n",
       "   'intents': [{'category': 'GetTime', 'confidenceScore': 0.86569154},\n",
       "    {'category': 'GetDay', 'confidenceScore': 0.68318915},\n",
       "    {'category': 'GetDate', 'confidenceScore': 0.68233585},\n",
       "    {'category': 'None', 'confidenceScore': 0}],\n",
       "   'entities': [{'category': 'Location',\n",
       "     'text': 'Kathmandu',\n",
       "     'offset': 19,\n",
       "     'length': 9,\n",
       "     'confidenceScore': 1},\n",
       "    {'category': 'Date',\n",
       "     'text': 'right',\n",
       "     'offset': 29,\n",
       "     'length': 5,\n",
       "     'confidenceScore': 1,\n",
       "     'extraInformation': [{'extraInformationKind': 'EntitySubtype',\n",
       "       'value': 'datetime.datetime'}]},\n",
       "    {'category': 'Date',\n",
       "     'text': 'now',\n",
       "     'offset': 35,\n",
       "     'length': 3,\n",
       "     'confidenceScore': 1,\n",
       "     'resolutions': [{'resolutionKind': 'DateTimeResolution',\n",
       "       'dateTimeSubKind': 'DateTime',\n",
       "       'timex': 'PRESENT_REF',\n",
       "       'value': '2024-09-10 01:05:54'}],\n",
       "     'extraInformation': [{'extraInformationKind': 'EntitySubtype',\n",
       "       'value': 'datetime.datetime'}]}]}}}"
      ]
     },
     "execution_count": 23,
     "metadata": {},
     "output_type": "execute_result"
    }
   ],
   "source": [
    "result"
   ]
  },
  {
   "cell_type": "code",
   "execution_count": null,
   "metadata": {},
   "outputs": [],
   "source": []
  },
  {
   "cell_type": "code",
   "execution_count": 25,
   "metadata": {},
   "outputs": [],
   "source": [
    "def extractTopIntentAndEntities(result):    \n",
    "    top_intent = result[\"result\"][\"prediction\"][\"topIntent\"]\n",
    "    entities = result[\"result\"][\"prediction\"][\"entities\"]\n",
    "\n",
    "    print(\"view top intent:\")\n",
    "    print(\"\\ttop intent: {}\".format(result[\"result\"][\"prediction\"][\"topIntent\"]))\n",
    "    print(\"\\tcategory: {}\".format(result[\"result\"][\"prediction\"][\"intents\"][0][\"category\"]))\n",
    "    print(\"\\tconfidence score: {}\\n\".format(result[\"result\"][\"prediction\"][\"intents\"][0][\"confidenceScore\"]))\n",
    "\n",
    "    print(\"view entities:\")\n",
    "    for entity in entities:\n",
    "        print(\"\\tcategory: {}\".format(entity[\"category\"]))\n",
    "        print(\"\\ttext: {}\".format(entity[\"text\"]))\n",
    "        print(\"\\tconfidence score: {}\".format(entity[\"confidenceScore\"]))\n",
    "\n",
    "    print(\"query: {}\".format(result[\"result\"][\"query\"]))\n",
    "    return top_intent, entities"
   ]
  },
  {
   "cell_type": "code",
   "execution_count": 27,
   "metadata": {},
   "outputs": [
    {
     "name": "stdout",
     "output_type": "stream",
     "text": [
      "view top intent:\n",
      "\ttop intent: GetTime\n",
      "\tcategory: GetTime\n",
      "\tconfidence score: 0.86569154\n",
      "\n",
      "view entities:\n",
      "\tcategory: Location\n",
      "\ttext: Kathmandu\n",
      "\tconfidence score: 1\n",
      "\tcategory: Date\n",
      "\ttext: right\n",
      "\tconfidence score: 1\n",
      "\tcategory: Date\n",
      "\ttext: now\n",
      "\tconfidence score: 1\n",
      "query: What time is it at Kathmandu right now?\n"
     ]
    }
   ],
   "source": [
    "top_intent, entities = extractTopIntentAndEntities(result)"
   ]
  },
  {
   "cell_type": "code",
   "execution_count": null,
   "metadata": {},
   "outputs": [],
   "source": []
  }
 ],
 "metadata": {
  "kernelspec": {
   "display_name": "Python 3",
   "language": "python",
   "name": "python3"
  },
  "language_info": {
   "codemirror_mode": {
    "name": "ipython",
    "version": 3
   },
   "file_extension": ".py",
   "mimetype": "text/x-python",
   "name": "python",
   "nbconvert_exporter": "python",
   "pygments_lexer": "ipython3",
   "version": "3.11.9"
  },
  "orig_nbformat": 4,
  "vscode": {
   "interpreter": {
    "hash": "b6825e47c5122688069373c1c53c81fe3ca942cdeb5ae363f88ac19b8a5793ba"
   }
  }
 },
 "nbformat": 4,
 "nbformat_minor": 2
}
