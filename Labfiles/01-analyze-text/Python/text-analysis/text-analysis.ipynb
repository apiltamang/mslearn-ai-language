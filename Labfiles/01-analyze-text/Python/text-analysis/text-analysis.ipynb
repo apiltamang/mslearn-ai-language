{
 "cells": [
  {
   "cell_type": "code",
   "execution_count": 1,
   "metadata": {},
   "outputs": [],
   "source": [
    "%load_ext dotenv"
   ]
  },
  {
   "cell_type": "code",
   "execution_count": 3,
   "metadata": {},
   "outputs": [],
   "source": [
    "%dotenv Labfiles/01-analyze-text/Python/text-analysis/.env"
   ]
  },
  {
   "cell_type": "code",
   "execution_count": 4,
   "metadata": {},
   "outputs": [
    {
     "name": "stdout",
     "output_type": "stream",
     "text": [
      "https://training-resource-instance.cognitiveservices.azure.com/\n"
     ]
    }
   ],
   "source": [
    "# read the environment variables from the .env file\n",
    "import os\n",
    "ai_endpoint = os.getenv('AI_SERVICE_ENDPOINT')\n",
    "ai_key = os.getenv('AI_SERVICE_KEY')\n",
    "print(ai_endpoint)"
   ]
  },
  {
   "cell_type": "code",
   "execution_count": 9,
   "metadata": {},
   "outputs": [],
   "source": [
    "from azure.ai.textanalytics import TextAnalyticsClient\n",
    "from azure.core.credentials import AzureKeyCredential"
   ]
  },
  {
   "cell_type": "code",
   "execution_count": 10,
   "metadata": {},
   "outputs": [],
   "source": [
    "credential = AzureKeyCredential(ai_key)"
   ]
  },
  {
   "cell_type": "code",
   "execution_count": 11,
   "metadata": {},
   "outputs": [],
   "source": [
    "\n",
    "ai_client = TextAnalyticsClient(endpoint=ai_endpoint, credential=credential)"
   ]
  },
  {
   "attachments": {},
   "cell_type": "markdown",
   "metadata": {},
   "source": [
    "## Read reviews and print various attributes"
   ]
  },
  {
   "cell_type": "code",
   "execution_count": 17,
   "metadata": {},
   "outputs": [
    {
     "name": "stdout",
     "output_type": "stream",
     "text": [
      "\n",
      "Good location and helpful staff, but on a busy road.\n",
      "The Lombard Hotel, San Francisco, USA\n",
      "8/16/2018\n",
      "We stayed here in August after reading reviews. We were very pleased with location, just behind Chestnut Street, a cosmopolitan and trendy area with plenty of restaurants to choose from. The\n",
      "Marina district was lovely to wander through, very interesting houses. Make sure to walk to the San Francisco Museum of Fine Arts and the Marina to get a good view of Golden Gate bridge and the city. On a bus route and easy to get into centre. Rooms were clean with plenty of room and staff were friendly and helpful. The only down side was the noise from Lombard Street so ask to have a room furthest away from traffic noise.\n",
      "-------------------------------------\n",
      "\n",
      "* Language:  English\n",
      "\n",
      "* Sentiment:  mixed\n",
      "\n",
      "* Key Phrases:  ['Golden Gate bridge', 'The Lombard Hotel', 'The Marina district', 'San Francisco Museum', 'Lombard Street', 'busy road', 'Chestnut Street', 'trendy area', 'interesting houses', 'Fine Arts', 'good view', 'bus route', 'down side', 'Good location', 'helpful staff', 'traffic noise', 'USA', 'We', 'August', 'reviews', 'cosmopolitan', 'plenty', 'restaurants', 'city', 'centre', 'Rooms']\n",
      "\n",
      "* Entities:  [CategorizedEntity(text=staff, category=PersonType, subcategory=None, length=5, offset=26, confidence_score=0.85), CategorizedEntity(text=road, category=Location, subcategory=Geographical, length=4, offset=47, confidence_score=0.71), CategorizedEntity(text=Lombard Hotel, category=Location, subcategory=None, length=13, offset=57, confidence_score=0.58), CategorizedEntity(text=San Francisco, category=Location, subcategory=City, length=13, offset=72, confidence_score=1.0), CategorizedEntity(text=USA, category=Location, subcategory=CountryRegion, length=3, offset=87, confidence_score=0.81), CategorizedEntity(text=8/16/2018, category=DateTime, subcategory=Date, length=9, offset=91, confidence_score=0.99), CategorizedEntity(text=August, category=DateTime, subcategory=DateRange, length=6, offset=119, confidence_score=1.0), CategorizedEntity(text=Chestnut Street, category=Location, subcategory=None, length=15, offset=197, confidence_score=0.82), CategorizedEntity(text=restaurants, category=Location, subcategory=None, length=11, offset=260, confidence_score=0.92), CategorizedEntity(text=Marina district, category=Location, subcategory=None, length=15, offset=292, confidence_score=0.95), CategorizedEntity(text=houses, category=Location, subcategory=None, length=6, offset=355, confidence_score=0.59), CategorizedEntity(text=San Francisco Museum of Fine Arts, category=Location, subcategory=None, length=33, offset=388, confidence_score=0.99), CategorizedEntity(text=Marina, category=Location, subcategory=Structural, length=6, offset=430, confidence_score=0.99), CategorizedEntity(text=Golden Gate bridge, category=Location, subcategory=None, length=18, offset=459, confidence_score=1.0), CategorizedEntity(text=city, category=Location, subcategory=None, length=4, offset=486, confidence_score=0.63), CategorizedEntity(text=centre, category=Location, subcategory=Structural, length=6, offset=528, confidence_score=0.83), CategorizedEntity(text=Rooms, category=Location, subcategory=None, length=5, offset=536, confidence_score=0.76), CategorizedEntity(text=staff, category=PersonType, subcategory=None, length=5, offset=577, confidence_score=0.97), CategorizedEntity(text=Lombard Street, category=Address, subcategory=None, length=14, offset=648, confidence_score=0.97), CategorizedEntity(text=room, category=Location, subcategory=Structural, length=4, offset=680, confidence_score=0.68)]\n",
      "\n",
      "* Linked Entities:  [LinkedEntity(name=Lombardy, matches=[LinkedEntityMatch(confidence_score=0.08, text=Lombard, length=7, offset=57)], language=en, data_source_entity_id=Lombardy, url=https://en.wikipedia.org/wiki/Lombardy, data_source=Wikipedia, bing_entity_search_api_id=4e4d95c0-6e91-acd2-e10c-7165bc365e22), LinkedEntity(name=Hotel, matches=[LinkedEntityMatch(confidence_score=0.17, text=Hotel, length=5, offset=65)], language=en, data_source_entity_id=Hotel, url=https://en.wikipedia.org/wiki/Hotel, data_source=Wikipedia, bing_entity_search_api_id=04997f43-c747-bdd9-e5fe-3fa762f7de51), LinkedEntity(name=San Francisco, matches=[LinkedEntityMatch(confidence_score=0.89, text=San Francisco, USA, length=18, offset=72), LinkedEntityMatch(confidence_score=0.34, text=San Francisco, length=13, offset=388)], language=en, data_source_entity_id=San Francisco, url=https://en.wikipedia.org/wiki/San_Francisco, data_source=Wikipedia, bing_entity_search_api_id=37181124-e096-403d-a455-576a61b83525), LinkedEntity(name=Chestnut Street (Philadelphia), matches=[LinkedEntityMatch(confidence_score=0.08, text=Chestnut Street, length=15, offset=197)], language=en, data_source_entity_id=Chestnut Street (Philadelphia), url=https://en.wikipedia.org/wiki/Chestnut_Street_(Philadelphia), data_source=Wikipedia, bing_entity_search_api_id=9f65c513-55ca-4f98-58a9-9508473cda70), LinkedEntity(name=Marina District, San Francisco, matches=[LinkedEntityMatch(confidence_score=0.43, text=Marina district, length=15, offset=292), LinkedEntityMatch(confidence_score=0.25, text=Marina, length=6, offset=430)], language=en, data_source_entity_id=Marina District, San Francisco, url=https://en.wikipedia.org/wiki/Marina_District,_San_Francisco, data_source=Wikipedia, bing_entity_search_api_id=7390004d-d137-7d95-dd1d-2927617aee7d), LinkedEntity(name=Museum of Fine Arts, Boston, matches=[LinkedEntityMatch(confidence_score=0.07, text=Museum of Fine Arts, length=19, offset=402)], language=en, data_source_entity_id=Museum of Fine Arts, Boston, url=https://en.wikipedia.org/wiki/Museum_of_Fine_Arts,_Boston, data_source=Wikipedia, bing_entity_search_api_id=371495e8-f1cf-0906-0cfe-75499ae82885), LinkedEntity(name=Golden Gate Bridge, matches=[LinkedEntityMatch(confidence_score=0.33, text=Golden Gate bridge, length=18, offset=459)], language=en, data_source_entity_id=Golden Gate Bridge, url=https://en.wikipedia.org/wiki/Golden_Gate_Bridge, data_source=Wikipedia, bing_entity_search_api_id=9e61e411-4e4e-9aa4-de16-704ab00a1d57), LinkedEntity(name=Room, matches=[LinkedEntityMatch(confidence_score=0.23, text=Rooms, length=5, offset=536)], language=en, data_source_entity_id=Room, url=https://en.wikipedia.org/wiki/Room, data_source=Wikipedia, bing_entity_search_api_id=3511a1b8-c27b-01ca-ce9b-8e59ce2d52ce), LinkedEntity(name=Lombard Street (San Francisco), matches=[LinkedEntityMatch(confidence_score=0.13, text=Lombard Street, length=14, offset=648)], language=en, data_source_entity_id=Lombard Street (San Francisco), url=https://en.wikipedia.org/wiki/Lombard_Street_(San_Francisco), data_source=Wikipedia, bing_entity_search_api_id=4cf731c2-a9aa-291b-c056-4dace4ff3a04)]\n",
      "-------------------------------------\n",
      "\n",
      "Tired hotel with poor service\n",
      "The Royal Hotel, London, United Kingdom\n",
      "5/6/2018\n",
      "This is a old hotel (has been around since 1950's) and the room furnishings are average - becoming a bit old now and require changing. The internet didn't work and had to come to one of their office rooms to check in for my flight home. The website says it's close to the British Museum, but it's too far to walk.\n",
      "-------------------------------------\n",
      "\n",
      "* Language:  English\n",
      "\n",
      "* Sentiment:  negative\n",
      "\n",
      "* Key Phrases:  ['The Royal Hotel', 'Tired hotel', 'old hotel', 'poor service', 'United Kingdom', 'room furnishings', 'office rooms', 'flight home', 'British Museum', 'London', 'changing', 'internet', 'website', '1950']\n",
      "\n",
      "* Entities:  [CategorizedEntity(text=hotel, category=Location, subcategory=None, length=5, offset=6, confidence_score=0.52), CategorizedEntity(text=Hotel, category=Location, subcategory=None, length=5, offset=40, confidence_score=0.69), CategorizedEntity(text=London, category=Location, subcategory=City, length=6, offset=47, confidence_score=0.99), CategorizedEntity(text=United Kingdom, category=Location, subcategory=CountryRegion, length=14, offset=55, confidence_score=1.0), CategorizedEntity(text=5/6/2018, category=DateTime, subcategory=Date, length=8, offset=70, confidence_score=1.0), CategorizedEntity(text=hotel, category=Location, subcategory=None, length=5, offset=93, confidence_score=0.93), CategorizedEntity(text=since 1950, category=DateTime, subcategory=DateRange, length=10, offset=116, confidence_score=0.93), CategorizedEntity(text=room, category=Location, subcategory=Structural, length=4, offset=138, confidence_score=0.59), CategorizedEntity(text=now, category=DateTime, subcategory=None, length=3, offset=188, confidence_score=1.0), CategorizedEntity(text=internet, category=Skill, subcategory=None, length=8, offset=218, confidence_score=0.7), CategorizedEntity(text=one, category=Quantity, subcategory=Number, length=3, offset=258, confidence_score=0.8), CategorizedEntity(text=office rooms, category=Location, subcategory=None, length=12, offset=271, confidence_score=0.88), CategorizedEntity(text=flight, category=Event, subcategory=None, length=6, offset=303, confidence_score=0.73), CategorizedEntity(text=home, category=Location, subcategory=None, length=4, offset=310, confidence_score=0.91), CategorizedEntity(text=British Museum, category=Location, subcategory=None, length=14, offset=351, confidence_score=0.96)]\n",
      "\n",
      "* Linked Entities:  [LinkedEntity(name=The Royal Hotel, matches=[LinkedEntityMatch(confidence_score=0.7, text=The Royal Hotel, length=15, offset=30)], language=en, data_source_entity_id=The Royal Hotel, url=https://en.wikipedia.org/wiki/The_Royal_Hotel, data_source=Wikipedia, bing_entity_search_api_id=cab45def-b5e6-6ac4-ce02-697c74a3e578), LinkedEntity(name=London, matches=[LinkedEntityMatch(confidence_score=0.91, text=London, United Kingdom, length=22, offset=47)], language=en, data_source_entity_id=London, url=https://en.wikipedia.org/wiki/London, data_source=Wikipedia, bing_entity_search_api_id=8e0ba7b6-4225-fa8a-6369-1b5294e602a5), LinkedEntity(name=British Museum, matches=[LinkedEntityMatch(confidence_score=0.8, text=the British Museum, length=18, offset=347)], language=en, data_source_entity_id=British Museum, url=https://en.wikipedia.org/wiki/British_Museum, data_source=Wikipedia, bing_entity_search_api_id=579aeb9d-5ce6-46c3-8efd-33328b661b0c)]\n",
      "-------------------------------------\n",
      "\n",
      "Good Hotel and staff\n",
      "The Royal Hotel, London, UK\n",
      "3/2/2018\n",
      "Clean rooms, good service, great location near Buckingham Palace and Westminster Abbey, and so on. We thoroughly enjoyed our stay. The courtyard is very peaceful and we went to a restaurant which is part of the same group and is Indian ( West coast so plenty of fish) with a Michelin Star. We had the taster menu which was fabulous. The rooms were very well appointed with a kitchen, lounge, bedroom and enormous bathroom. Thoroughly recommended.\n",
      "-------------------------------------\n",
      "\n",
      "* Language:  English\n",
      "\n",
      "* Sentiment:  positive\n",
      "\n",
      "* Key Phrases:  ['The Royal Hotel', 'Good Hotel', 'good service', 'great location', 'Buckingham Palace', 'Westminster Abbey', 'same group', 'West coast', 'Michelin Star', 'taster menu', 'enormous bathroom', 'Clean rooms', 'staff', 'London', 'UK', 'stay', 'courtyard', 'restaurant', 'part', 'plenty', 'fish', 'kitchen', 'lounge', 'bedroom']\n",
      "\n",
      "* Entities:  [CategorizedEntity(text=staff, category=PersonType, subcategory=None, length=5, offset=15, confidence_score=0.85), CategorizedEntity(text=Royal Hotel, category=Location, subcategory=None, length=11, offset=25, confidence_score=0.59), CategorizedEntity(text=London, category=Location, subcategory=City, length=6, offset=38, confidence_score=0.97), CategorizedEntity(text=UK, category=Location, subcategory=CountryRegion, length=2, offset=46, confidence_score=0.94), CategorizedEntity(text=3/2/2018, category=DateTime, subcategory=Date, length=8, offset=49, confidence_score=1.0), CategorizedEntity(text=rooms, category=Location, subcategory=None, length=5, offset=64, confidence_score=0.65), CategorizedEntity(text=Buckingham Palace, category=Location, subcategory=Structural, length=17, offset=105, confidence_score=1.0), CategorizedEntity(text=Westminster Abbey, category=Location, subcategory=None, length=17, offset=127, confidence_score=1.0), CategorizedEntity(text=stay, category=Event, subcategory=None, length=4, offset=183, confidence_score=0.64), CategorizedEntity(text=courtyard, category=Location, subcategory=Structural, length=9, offset=193, confidence_score=0.73), CategorizedEntity(text=restaurant, category=Location, subcategory=Structural, length=10, offset=237, confidence_score=0.64), CategorizedEntity(text=Indian, category=Skill, subcategory=None, length=6, offset=287, confidence_score=0.62), CategorizedEntity(text=West coast, category=Location, subcategory=None, length=10, offset=296, confidence_score=0.83), CategorizedEntity(text=fish, category=Product, subcategory=None, length=4, offset=320, confidence_score=0.66), CategorizedEntity(text=rooms, category=Location, subcategory=None, length=5, offset=395, confidence_score=0.78), CategorizedEntity(text=kitchen, category=Location, subcategory=None, length=7, offset=433, confidence_score=0.98), CategorizedEntity(text=lounge, category=Location, subcategory=Structural, length=6, offset=442, confidence_score=0.97), CategorizedEntity(text=bedroom, category=Location, subcategory=None, length=7, offset=450, confidence_score=0.96), CategorizedEntity(text=bathroom, category=Location, subcategory=Structural, length=8, offset=471, confidence_score=0.95)]\n",
      "\n",
      "* Linked Entities:  [LinkedEntity(name=GOOD Music, matches=[LinkedEntityMatch(confidence_score=0.01, text=Good, length=4, offset=0)], language=en, data_source_entity_id=GOOD Music, url=https://en.wikipedia.org/wiki/GOOD_Music, data_source=Wikipedia, bing_entity_search_api_id=6f7d0967-026b-1507-79a9-c4e66b497716), LinkedEntity(name=Hotel, matches=[LinkedEntityMatch(confidence_score=0.01, text=Hotel, length=5, offset=5)], language=en, data_source_entity_id=Hotel, url=https://en.wikipedia.org/wiki/Hotel, data_source=Wikipedia, bing_entity_search_api_id=04997f43-c747-bdd9-e5fe-3fa762f7de51), LinkedEntity(name=The Royal Hotel, matches=[LinkedEntityMatch(confidence_score=0.67, text=The Royal Hotel, length=15, offset=21)], language=en, data_source_entity_id=The Royal Hotel, url=https://en.wikipedia.org/wiki/The_Royal_Hotel, data_source=Wikipedia, bing_entity_search_api_id=cab45def-b5e6-6ac4-ce02-697c74a3e578), LinkedEntity(name=London, matches=[LinkedEntityMatch(confidence_score=0.92, text=London, UK, length=10, offset=38)], language=en, data_source_entity_id=London, url=https://en.wikipedia.org/wiki/London, data_source=Wikipedia, bing_entity_search_api_id=8e0ba7b6-4225-fa8a-6369-1b5294e602a5), LinkedEntity(name=Buckingham Palace, matches=[LinkedEntityMatch(confidence_score=0.89, text=Buckingham Palace, length=17, offset=105)], language=en, data_source_entity_id=Buckingham Palace, url=https://en.wikipedia.org/wiki/Buckingham_Palace, data_source=Wikipedia, bing_entity_search_api_id=9b8289bc-f032-6c70-1694-a8a1958c341b), LinkedEntity(name=Westminster Abbey, matches=[LinkedEntityMatch(confidence_score=0.04, text=Westminster Abbey, length=17, offset=127)], language=en, data_source_entity_id=Westminster Abbey, url=https://en.wikipedia.org/wiki/Westminster_Abbey, data_source=Wikipedia, bing_entity_search_api_id=e96d3105-9f20-09d1-7e2d-ed0020a4a003), LinkedEntity(name=India, matches=[LinkedEntityMatch(confidence_score=0.07, text=Indian, length=6, offset=287)], language=en, data_source_entity_id=India, url=https://en.wikipedia.org/wiki/India, data_source=Wikipedia, bing_entity_search_api_id=85fa63d3-9596-adb9-b4eb-502273d84f56), LinkedEntity(name=West Coast Main Line, matches=[LinkedEntityMatch(confidence_score=0.05, text=West coast, length=10, offset=296)], language=en, data_source_entity_id=West Coast Main Line, url=https://en.wikipedia.org/wiki/West_Coast_Main_Line, data_source=Wikipedia, bing_entity_search_api_id=3266831d-24ff-365f-6f6d-7b27348026d5), LinkedEntity(name=Michelin Guide, matches=[LinkedEntityMatch(confidence_score=0.82, text=Michelin Star, length=13, offset=333)], language=en, data_source_entity_id=Michelin Guide, url=https://en.wikipedia.org/wiki/Michelin_Guide, data_source=Wikipedia, bing_entity_search_api_id=4792be63-925e-6086-674f-92ccb13cd4b0)]\n",
      "-------------------------------------\n",
      "\n",
      "Un hôtel agréable\n",
      "L'Hotel Buckingham, Londres, UK\n",
      "J’adore cet hôtel. Le personnel est très amical et les chambres sont confortables.\n",
      "-------------------------------------\n",
      "\n",
      "* Language:  French\n",
      "\n",
      "* Sentiment:  positive\n",
      "\n",
      "* Key Phrases:  ['hôtel agréable', \"L'Hotel Buckingham\", 'Londres', 'UK', 'personnel', 'chambres']\n",
      "\n",
      "* Entities:  [CategorizedEntity(text=hôtel, category=Location, subcategory=None, length=5, offset=3, confidence_score=0.87), CategorizedEntity(text=Hotel Buckingham, category=Location, subcategory=None, length=16, offset=20, confidence_score=0.73), CategorizedEntity(text=Londres, category=Location, subcategory=City, length=7, offset=38, confidence_score=0.99), CategorizedEntity(text=UK, category=Location, subcategory=CountryRegion, length=2, offset=47, confidence_score=0.97), CategorizedEntity(text=hôtel, category=Location, subcategory=None, length=5, offset=62, confidence_score=0.96), CategorizedEntity(text=personnel, category=PersonType, subcategory=None, length=9, offset=72, confidence_score=0.68), CategorizedEntity(text=amical, category=Skill, subcategory=None, length=6, offset=91, confidence_score=0.54), CategorizedEntity(text=chambres, category=Location, subcategory=None, length=8, offset=105, confidence_score=0.74)]\n",
      "\n",
      "* Linked Entities:  [LinkedEntity(name=United Nations, matches=[LinkedEntityMatch(confidence_score=0.15, text=Un, length=2, offset=0)], language=en, data_source_entity_id=United Nations, url=https://en.wikipedia.org/wiki/United_Nations, data_source=Wikipedia, bing_entity_search_api_id=745078b6-bda9-6c9c-3967-aeda6bb10099), LinkedEntity(name=L'Hôtel, matches=[LinkedEntityMatch(confidence_score=0.42, text=L'Hotel, length=7, offset=18)], language=en, data_source_entity_id=L'Hôtel, url=https://en.wikipedia.org/wiki/L'Hôtel, data_source=Wikipedia, bing_entity_search_api_id=03fab396-5939-54d5-502c-7692fe637b7b), LinkedEntity(name=Buckingham, matches=[LinkedEntityMatch(confidence_score=0.02, text=Buckingham, length=10, offset=26)], language=en, data_source_entity_id=Buckingham, url=https://en.wikipedia.org/wiki/Buckingham, data_source=Wikipedia, bing_entity_search_api_id=c1c2979f-a8dc-9042-8fa4-d0fc332e2170), LinkedEntity(name=London, matches=[LinkedEntityMatch(confidence_score=0.49, text=Londres, length=7, offset=38)], language=en, data_source_entity_id=London, url=https://en.wikipedia.org/wiki/London, data_source=Wikipedia, bing_entity_search_api_id=8e0ba7b6-4225-fa8a-6369-1b5294e602a5), LinkedEntity(name=United Kingdom, matches=[LinkedEntityMatch(confidence_score=0.09, text=UK, length=2, offset=47)], language=en, data_source_entity_id=United Kingdom, url=https://en.wikipedia.org/wiki/United_Kingdom, data_source=Wikipedia, bing_entity_search_api_id=b1a5155a-6bb2-4646-8f7c-3e6b3a53c831)]\n",
      "-------------------------------------\n",
      "\n",
      "Very noisy and rooms are tiny\n",
      "The Lombard Hotel, San Francisco, USA\n",
      "9/5/2018\n",
      "Hotel is located on Lombard street which is a very busy SIX lane street directly off the Golden Gate Bridge. Traffic from early morning until late at night especially on weekends. Noise would not be so bad if rooms were better insulated but they are not. Had to put cotton balls in my ears to be able to sleep--was too tired to enjoy the city the next day. Rooms are TINY. I picked the room because it had two queen size beds--but the room barely had space to fit them. With family of four in the room it was tight. With all that said, rooms are clean and they've made an effort to update them. The hotel is in Marina district with lots of good places to eat, within walking distance to Presidio. May be good hotel for young stay-up-late adults on a budget\n",
      "\n",
      "-------------------------------------\n",
      "\n",
      "* Language:  English\n",
      "\n",
      "* Sentiment:  mixed\n",
      "\n",
      "* Key Phrases:  ['two queen size beds', 'busy SIX lane street', 'Golden Gate Bridge', 'The Lombard Hotel', 'Lombard street', 'San Francisco', 'early morning', 'cotton balls', 'Marina district', 'good places', 'walking distance', 'late adults', 'good hotel', 'rooms', 'USA', 'Traffic', 'night', 'weekends', 'Noise', 'ears', 'city', 'TINY', 'space', 'family', 'effort', 'lots', 'Presidio', 'young', 'budget']\n",
      "\n",
      "* Entities:  [CategorizedEntity(text=rooms, category=Location, subcategory=None, length=5, offset=15, confidence_score=0.86), CategorizedEntity(text=Lombard Hotel, category=Location, subcategory=None, length=13, offset=34, confidence_score=0.58), CategorizedEntity(text=San Francisco, category=Location, subcategory=City, length=13, offset=49, confidence_score=1.0), CategorizedEntity(text=USA, category=Location, subcategory=CountryRegion, length=3, offset=64, confidence_score=0.81), CategorizedEntity(text=9/5/2018, category=DateTime, subcategory=Date, length=8, offset=68, confidence_score=0.99), CategorizedEntity(text=Hotel, category=Location, subcategory=None, length=5, offset=77, confidence_score=0.72), CategorizedEntity(text=Lombard street, category=Address, subcategory=None, length=14, offset=97, confidence_score=0.97), CategorizedEntity(text=SIX, category=Quantity, subcategory=Number, length=3, offset=133, confidence_score=0.8), CategorizedEntity(text=Golden Gate Bridge, category=Location, subcategory=None, length=18, offset=166, confidence_score=0.98), CategorizedEntity(text=Traffic, category=Skill, subcategory=None, length=7, offset=186, confidence_score=0.63), CategorizedEntity(text=early morning until late at night, category=DateTime, subcategory=TimeRange, length=33, offset=199, confidence_score=0.66), CategorizedEntity(text=weekends, category=DateTime, subcategory=Set, length=8, offset=247, confidence_score=0.96), CategorizedEntity(text=rooms, category=Location, subcategory=None, length=5, offset=286, confidence_score=0.9), CategorizedEntity(text=cotton balls, category=Product, subcategory=None, length=12, offset=343, confidence_score=0.91), CategorizedEntity(text=the next day, category=DateTime, subcategory=Date, length=12, offset=420, confidence_score=0.88), CategorizedEntity(text=Rooms, category=Location, subcategory=None, length=5, offset=434, confidence_score=0.6), CategorizedEntity(text=room, category=Location, subcategory=Structural, length=4, offset=463, confidence_score=0.76), CategorizedEntity(text=two, category=Quantity, subcategory=Number, length=3, offset=483, confidence_score=0.8), CategorizedEntity(text=beds, category=Product, subcategory=None, length=4, offset=498, confidence_score=0.67), CategorizedEntity(text=room, category=Location, subcategory=Structural, length=4, offset=512, confidence_score=0.74), CategorizedEntity(text=four, category=Quantity, subcategory=Number, length=4, offset=562, confidence_score=0.8), CategorizedEntity(text=room, category=Location, subcategory=Structural, length=4, offset=574, confidence_score=0.93), CategorizedEntity(text=rooms, category=Location, subcategory=None, length=5, offset=613, confidence_score=0.97), CategorizedEntity(text=hotel, category=Location, subcategory=None, length=5, offset=676, confidence_score=0.69), CategorizedEntity(text=Marina district, category=Location, subcategory=None, length=15, offset=688, confidence_score=0.94), CategorizedEntity(text=Presidio, category=Location, subcategory=City, length=8, offset=764, confidence_score=0.84), CategorizedEntity(text=adults, category=PersonType, subcategory=None, length=6, offset=815, confidence_score=0.57)]\n",
      "\n",
      "* Linked Entities:  [LinkedEntity(name=Lombard, Illinois, matches=[LinkedEntityMatch(confidence_score=0.01, text=Lombard, length=7, offset=34)], language=en, data_source_entity_id=Lombard, Illinois, url=https://en.wikipedia.org/wiki/Lombard,_Illinois, data_source=Wikipedia, bing_entity_search_api_id=b761731d-e956-b0d8-f880-b1f53b3bef5f), LinkedEntity(name=Hotel, matches=[LinkedEntityMatch(confidence_score=0.22, text=Hotel, length=5, offset=42), LinkedEntityMatch(confidence_score=0.22, text=Hotel, length=5, offset=77)], language=en, data_source_entity_id=Hotel, url=https://en.wikipedia.org/wiki/Hotel, data_source=Wikipedia, bing_entity_search_api_id=04997f43-c747-bdd9-e5fe-3fa762f7de51), LinkedEntity(name=San Francisco, matches=[LinkedEntityMatch(confidence_score=0.89, text=San Francisco, USA, length=18, offset=49)], language=en, data_source_entity_id=San Francisco, url=https://en.wikipedia.org/wiki/San_Francisco, data_source=Wikipedia, bing_entity_search_api_id=37181124-e096-403d-a455-576a61b83525), LinkedEntity(name=Lombard Street (San Francisco), matches=[LinkedEntityMatch(confidence_score=0.21, text=Lombard street, length=14, offset=97)], language=en, data_source_entity_id=Lombard Street (San Francisco), url=https://en.wikipedia.org/wiki/Lombard_Street_(San_Francisco), data_source=Wikipedia, bing_entity_search_api_id=4cf731c2-a9aa-291b-c056-4dace4ff3a04), LinkedEntity(name=Golden Gate Bridge, matches=[LinkedEntityMatch(confidence_score=0.32, text=Golden Gate Bridge, length=18, offset=166)], language=en, data_source_entity_id=Golden Gate Bridge, url=https://en.wikipedia.org/wiki/Golden_Gate_Bridge, data_source=Wikipedia, bing_entity_search_api_id=9e61e411-4e4e-9aa4-de16-704ab00a1d57), LinkedEntity(name=Traffic, matches=[LinkedEntityMatch(confidence_score=0.07, text=Traffic, length=7, offset=186)], language=en, data_source_entity_id=Traffic, url=https://en.wikipedia.org/wiki/Traffic, data_source=Wikipedia, bing_entity_search_api_id=21b98aed-53a3-6202-056a-591c20ba9754), LinkedEntity(name=Noise rock, matches=[LinkedEntityMatch(confidence_score=0.05, text=Noise, length=5, offset=257)], language=en, data_source_entity_id=Noise rock, url=https://en.wikipedia.org/wiki/Noise_rock, data_source=Wikipedia, bing_entity_search_api_id=c0c9234c-35a1-5da5-36d4-133133021fb0), LinkedEntity(name=Room, matches=[LinkedEntityMatch(confidence_score=0.07, text=Rooms, length=5, offset=434)], language=en, data_source_entity_id=Room, url=https://en.wikipedia.org/wiki/Room, data_source=Wikipedia, bing_entity_search_api_id=3511a1b8-c27b-01ca-ce9b-8e59ce2d52ce), LinkedEntity(name=Marina District, San Francisco, matches=[LinkedEntityMatch(confidence_score=0.38, text=Marina district, length=15, offset=688)], language=en, data_source_entity_id=Marina District, San Francisco, url=https://en.wikipedia.org/wiki/Marina_District,_San_Francisco, data_source=Wikipedia, bing_entity_search_api_id=7390004d-d137-7d95-dd1d-2927617aee7d), LinkedEntity(name=Presidio of San Francisco, matches=[LinkedEntityMatch(confidence_score=0.22, text=Presidio, length=8, offset=764)], language=en, data_source_entity_id=Presidio of San Francisco, url=https://en.wikipedia.org/wiki/Presidio_of_San_Francisco, data_source=Wikipedia, bing_entity_search_api_id=edf05faa-5150-4062-aef0-0a1b03b4c228), LinkedEntity(name=May, matches=[LinkedEntityMatch(confidence_score=0.05, text=May, length=3, offset=774)], language=en, data_source_entity_id=May, url=https://en.wikipedia.org/wiki/May, data_source=Wikipedia, bing_entity_search_api_id=0775097e-ad43-3b5d-1e37-cf1ba2f99811)]\n",
      "-------------------------------------\n"
     ]
    }
   ],
   "source": [
    "for file_name in os.listdir('reviews'):\n",
    "    text = open(os.path.join('reviews', file_name), 'r', encoding='utf-8').read()\n",
    "    print('\\n' + text)\n",
    "\n",
    "    # Get language\n",
    "    detected_language = ai_client.detect_language(documents=[text])[0]\n",
    "\n",
    "    print('-------------------------------------')\n",
    "    print('\\n* Language: ', detected_language.primary_language.name)\n",
    "\n",
    "    # Get sentiment\n",
    "    sentiment = ai_client.analyze_sentiment(documents=[text])[0]\n",
    "    print('\\n* Sentiment: ', sentiment.sentiment)\n",
    "\n",
    "    # Get key phrases\n",
    "    key_phrases = ai_client.extract_key_phrases(documents=[text])[0]\n",
    "    print('\\n* Key Phrases: ', key_phrases.key_phrases)\n",
    "\n",
    "    # Get entities\n",
    "    entities = ai_client.recognize_entities(documents=[text])[0]\n",
    "    print('\\n* Entities: ', entities.entities)\n",
    "\n",
    "    # Get linked entities\n",
    "    linked_entities = ai_client.recognize_linked_entities(documents=[text])[0]\n",
    "    print('\\n* Linked Entities: ', linked_entities.entities)\n",
    "    print('-------------------------------------') "
   ]
  },
  {
   "cell_type": "code",
   "execution_count": null,
   "metadata": {},
   "outputs": [],
   "source": []
  }
 ],
 "metadata": {
  "kernelspec": {
   "display_name": "ai-learn",
   "language": "python",
   "name": "python3"
  },
  "language_info": {
   "codemirror_mode": {
    "name": "ipython",
    "version": 3
   },
   "file_extension": ".py",
   "mimetype": "text/x-python",
   "name": "python",
   "nbconvert_exporter": "python",
   "pygments_lexer": "ipython3",
   "version": "3.11.9 (main, Apr 19 2024, 11:44:45) [Clang 14.0.6 ]"
  },
  "orig_nbformat": 4,
  "vscode": {
   "interpreter": {
    "hash": "b6825e47c5122688069373c1c53c81fe3ca942cdeb5ae363f88ac19b8a5793ba"
   }
  }
 },
 "nbformat": 4,
 "nbformat_minor": 2
}
