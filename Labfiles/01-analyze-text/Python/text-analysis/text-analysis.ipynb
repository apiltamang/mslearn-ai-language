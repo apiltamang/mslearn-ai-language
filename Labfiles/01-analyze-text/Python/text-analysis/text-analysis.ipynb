{
 "cells": [
  {
   "cell_type": "code",
   "execution_count": 1,
   "metadata": {},
   "outputs": [],
   "source": [
    "from dotenv import load_dotenv"
   ]
  },
  {
   "cell_type": "code",
   "execution_count": 2,
   "metadata": {},
   "outputs": [],
   "source": [
    "import os"
   ]
  },
  {
   "cell_type": "code",
   "execution_count": 3,
   "metadata": {},
   "outputs": [
    {
     "data": {
      "text/plain": [
       "True"
      ]
     },
     "execution_count": 3,
     "metadata": {},
     "output_type": "execute_result"
    }
   ],
   "source": [
    "load_dotenv()"
   ]
  },
  {
   "cell_type": "code",
   "execution_count": 4,
   "metadata": {},
   "outputs": [
    {
     "name": "stdout",
     "output_type": "stream",
     "text": [
      "Requirement already satisfied: azure-ai-textanalytics==5.3.0 in /usr/local/Caskroom/miniconda/base/envs/ai-learn/lib/python3.11/site-packages (5.3.0)\n",
      "Requirement already satisfied: azure-core<2.0.0,>=1.24.0 in /usr/local/Caskroom/miniconda/base/envs/ai-learn/lib/python3.11/site-packages (from azure-ai-textanalytics==5.3.0) (1.30.2)\n",
      "Requirement already satisfied: azure-common~=1.1 in /usr/local/Caskroom/miniconda/base/envs/ai-learn/lib/python3.11/site-packages (from azure-ai-textanalytics==5.3.0) (1.1.28)\n",
      "Requirement already satisfied: isodate<1.0.0,>=0.6.1 in /usr/local/Caskroom/miniconda/base/envs/ai-learn/lib/python3.11/site-packages (from azure-ai-textanalytics==5.3.0) (0.6.1)\n",
      "Requirement already satisfied: typing-extensions>=4.0.1 in /usr/local/Caskroom/miniconda/base/envs/ai-learn/lib/python3.11/site-packages (from azure-ai-textanalytics==5.3.0) (4.12.2)\n",
      "Requirement already satisfied: requests>=2.21.0 in /usr/local/Caskroom/miniconda/base/envs/ai-learn/lib/python3.11/site-packages (from azure-core<2.0.0,>=1.24.0->azure-ai-textanalytics==5.3.0) (2.32.3)\n",
      "Requirement already satisfied: six>=1.11.0 in /usr/local/Caskroom/miniconda/base/envs/ai-learn/lib/python3.11/site-packages (from azure-core<2.0.0,>=1.24.0->azure-ai-textanalytics==5.3.0) (1.16.0)\n",
      "Requirement already satisfied: charset-normalizer<4,>=2 in /usr/local/Caskroom/miniconda/base/envs/ai-learn/lib/python3.11/site-packages (from requests>=2.21.0->azure-core<2.0.0,>=1.24.0->azure-ai-textanalytics==5.3.0) (3.3.2)\n",
      "Requirement already satisfied: idna<4,>=2.5 in /usr/local/Caskroom/miniconda/base/envs/ai-learn/lib/python3.11/site-packages (from requests>=2.21.0->azure-core<2.0.0,>=1.24.0->azure-ai-textanalytics==5.3.0) (3.7)\n",
      "Requirement already satisfied: urllib3<3,>=1.21.1 in /usr/local/Caskroom/miniconda/base/envs/ai-learn/lib/python3.11/site-packages (from requests>=2.21.0->azure-core<2.0.0,>=1.24.0->azure-ai-textanalytics==5.3.0) (2.2.2)\n",
      "Requirement already satisfied: certifi>=2017.4.17 in /usr/local/Caskroom/miniconda/base/envs/ai-learn/lib/python3.11/site-packages (from requests>=2.21.0->azure-core<2.0.0,>=1.24.0->azure-ai-textanalytics==5.3.0) (2024.7.4)\n"
     ]
    }
   ],
   "source": [
    "!pip install azure-ai-textanalytics==5.3.0"
   ]
  },
  {
   "cell_type": "code",
   "execution_count": 5,
   "metadata": {},
   "outputs": [
    {
     "name": "stdout",
     "output_type": "stream",
     "text": [
      "Requirement already satisfied: python-dotenv in /usr/local/Caskroom/miniconda/base/envs/ai-learn/lib/python3.11/site-packages (1.0.1)\n"
     ]
    }
   ],
   "source": [
    "!pip install python-dotenv"
   ]
  },
  {
   "cell_type": "code",
   "execution_count": null,
   "metadata": {},
   "outputs": [],
   "source": []
  }
 ],
 "metadata": {
  "kernelspec": {
   "display_name": "ai-learn",
   "language": "python",
   "name": "python3"
  },
  "language_info": {
   "codemirror_mode": {
    "name": "ipython",
    "version": 3
   },
   "file_extension": ".py",
   "mimetype": "text/x-python",
   "name": "python",
   "nbconvert_exporter": "python",
   "pygments_lexer": "ipython3",
   "version": "3.11.9"
  },
  "orig_nbformat": 4,
  "vscode": {
   "interpreter": {
    "hash": "b6825e47c5122688069373c1c53c81fe3ca942cdeb5ae363f88ac19b8a5793ba"
   }
  }
 },
 "nbformat": 4,
 "nbformat_minor": 2
}
